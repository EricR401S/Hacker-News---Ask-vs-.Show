{
 "cells": [
  {
   "cell_type": "markdown",
   "metadata": {},
   "source": [
    "# <center> Hacker News posts : Show vs. Ask<center>\n",
    "# <center>Which gets the most traction? <center>"
   ]
  },
  {
   "cell_type": "markdown",
   "metadata": {},
   "source": [
    "## <center>Introduction<center>\n",
    "\n",
    "The purpose of this project is to take this adapted [dataset](https://www.kaggle.com/hacker-news/hacker-news-posts) from Hacker News, a startup from Y Combinator, and determine whether 'Ask HN' or 'Show HN' posts receive more comments on average. Then the final step will be to calculate at what times does the more frequent of those two receive the most comments on average.\n",
    "\n",
    "## <center>Summary of Results<center>\n",
    "\n",
    "'Ask HN' receives more posts, total comments and more comments on average per post than Show HN.\n",
    "\n",
    "| HN Posts | Posts | Total Comments | Number of avg. comments per post |   |\n",
    "|----------|-------|----------------|--------------------------|---|\n",
    "| Ask HN   | 1,744 | 24,483         | 14.04                    |   |\n",
    "| Show HN  | 1,162 | 11,988         | 10.32                    |   |\n",
    "|          |       |                |                          |   |\n",
    "\n",
    "\n",
    "    \n",
    "Focusing on 'Ask HN', \n",
    "15:00 was the hour which records the highest number of average comments per post, 38.59. With a wide enough gap, it is fairly clear that the best time to ask something on HN is at 15:00.\n",
    "    \n",
    "| Hour of day | Number of average comments per post |\n",
    "|-------------|-----------------------------|\n",
    "| 15:00 (03:00 p.m.)      | 38.59                       |\n",
    "| 02:00 (02:00 a.m.)      | 23.81                       |\n",
    "| 20:00 (08:00 p.m.)       | 21.52                       |\n",
    "| 16:00 (04:00 p.m.)       | 16.80                       |\n",
    "| 21:00 (09:00 p.m.)       | 16.01                       |"
   ]
  },
  {
   "cell_type": "markdown",
   "metadata": {},
   "source": [
    "### <center>Reading the data as a list<center>"
   ]
  },
  {
   "cell_type": "code",
   "execution_count": 1,
   "metadata": {},
   "outputs": [],
   "source": [
    "from csv import reader\n",
    "opened_file = open('hacker_news.csv')\n",
    "read_file = reader(opened_file)\n",
    "hn = list(read_file)\n",
    "header = hn[0]\n",
    "hn = hn[1:]"
   ]
  },
  {
   "cell_type": "code",
   "execution_count": 15,
   "metadata": {},
   "outputs": [
    {
     "name": "stdout",
     "output_type": "stream",
     "text": [
      "['id', 'title', 'url', 'num_points', 'num_comments', 'author', 'created_at']\n",
      "\n",
      "\n",
      "['12224879', 'Interactive Dynamic Video', 'http://www.interactivedynamicvideo.com/', '386', '52', 'ne0phyte', '8/4/2016 11:52']\n",
      "\n",
      "\n",
      "['10975351', 'How to Use Open Source and Shut the Fuck Up at the Same Time', 'http://hueniverse.com/2016/01/26/how-to-use-open-source-and-shut-the-fuck-up-at-the-same-time/', '39', '10', 'josep2', '1/26/2016 19:30']\n",
      "\n",
      "\n",
      "['11964716', \"Florida DJs May Face Felony for April Fools' Water Joke\", 'http://www.thewire.com/entertainment/2013/04/florida-djs-april-fools-water-joke/63798/', '2', '1', 'vezycash', '6/23/2016 22:20']\n",
      "\n",
      "\n",
      "['11919867', 'Technology ventures: From Idea to Enterprise', 'https://www.amazon.com/Technology-Ventures-Enterprise-Thomas-Byers/dp/0073523429', '3', '1', 'hswarna', '6/17/2016 0:01']\n",
      "\n",
      "\n",
      "['10301696', 'Note by Note: The Making of Steinway L1037 (2007)', 'http://www.nytimes.com/2007/11/07/movies/07stein.html?_r=0', '8', '2', 'walterbell', '9/30/2015 4:12']\n",
      "\n",
      "\n"
     ]
    }
   ],
   "source": [
    "print(header)\n",
    "print('\\n')\n",
    "\n",
    "for row in hn[:5]:\n",
    "    print(row)\n",
    "    print('\\n')"
   ]
  },
  {
   "cell_type": "markdown",
   "metadata": {},
   "source": [
    "### <center>Classifying the types of posts<center>"
   ]
  },
  {
   "cell_type": "code",
   "execution_count": 16,
   "metadata": {},
   "outputs": [
    {
     "name": "stdout",
     "output_type": "stream",
     "text": [
      "Number of Posts in ask_posts: 1744\n",
      "\n",
      "\n",
      "Number of Posts in show_posts: 1162\n",
      "\n",
      "\n",
      "Number of Posts in other_posts: 17194\n",
      "\n",
      "\n"
     ]
    }
   ],
   "source": [
    "ask_posts = []\n",
    "\n",
    "show_posts = []\n",
    "\n",
    "other_posts = []\n",
    "\n",
    "for row in hn:\n",
    "    \n",
    "    title = row[1]\n",
    "    \n",
    "    #make it lowercase to not lose search items due to case\n",
    "    title = title.lower()\n",
    "    \n",
    "    if title.startswith('ask hn'):\n",
    "        ask_posts.append(row)\n",
    "    \n",
    "    elif title.startswith('show hn'):\n",
    "        show_posts.append(row)\n",
    "    \n",
    "    else:\n",
    "        other_posts.append(row)\n",
    "    \n",
    "\n",
    "print('Number of Posts in ask_posts:',len(ask_posts))\n",
    "print('\\n')\n",
    "print('Number of Posts in show_posts:',len(show_posts))\n",
    "print('\\n')\n",
    "print('Number of Posts in other_posts:',len(other_posts))\n",
    "print('\\n')"
   ]
  },
  {
   "cell_type": "markdown",
   "metadata": {},
   "source": [
    "| Types of posts | Number of posts |\n",
    "|----------------|-----------------|\n",
    "| Ask posts      | 1,744           |\n",
    "| Show posts     | 1,162           |\n",
    "| Other posts    | 17,194          |\n",
    "\n",
    "\n",
    "Ask posts definitely have more activity in them. A few rows will be observed to confirm efficacy and progress to the comments and their respective timeslots.\n"
   ]
  },
  {
   "cell_type": "markdown",
   "metadata": {
    "collapsed": true
   },
   "source": [
    "#### Let's see a few rows in ask_posts."
   ]
  },
  {
   "cell_type": "code",
   "execution_count": 17,
   "metadata": {},
   "outputs": [
    {
     "name": "stdout",
     "output_type": "stream",
     "text": [
      "['12296411', 'Ask HN: How to improve my personal website?', '', '2', '6', 'ahmedbaracat', '8/16/2016 9:55']\n",
      "\n",
      "\n",
      "['10610020', 'Ask HN: Am I the only one outraged by Twitter shutting down share counts?', '', '28', '29', 'tkfx', '11/22/2015 13:43']\n",
      "\n",
      "\n",
      "['11610310', 'Ask HN: Aby recent changes to CSS that broke mobile?', '', '1', '1', 'polskibus', '5/2/2016 10:14']\n",
      "\n",
      "\n",
      "['12210105', 'Ask HN: Looking for Employee #3 How do I do it?', '', '1', '3', 'sph130', '8/2/2016 14:20']\n",
      "\n",
      "\n",
      "['10394168', 'Ask HN: Someone offered to buy my browser extension from me. What now?', '', '28', '17', 'roykolak', '10/15/2015 16:38']\n",
      "\n",
      "\n"
     ]
    }
   ],
   "source": [
    "for row in ask_posts[:5]:\n",
    "    \n",
    "    print(row)\n",
    "    print('\\n')"
   ]
  },
  {
   "cell_type": "markdown",
   "metadata": {},
   "source": [
    "#### Let's see a few rows in show_posts."
   ]
  },
  {
   "cell_type": "code",
   "execution_count": 18,
   "metadata": {},
   "outputs": [
    {
     "name": "stdout",
     "output_type": "stream",
     "text": [
      "['10627194', 'Show HN: Wio Link  ESP8266 Based Web of Things Hardware Development Platform', 'https://iot.seeed.cc', '26', '22', 'kfihihc', '11/25/2015 14:03']\n",
      "\n",
      "\n",
      "['10646440', 'Show HN: Something pointless I made', 'http://dn.ht/picklecat/', '747', '102', 'dhotson', '11/29/2015 22:46']\n",
      "\n",
      "\n",
      "['11590768', 'Show HN: Shanhu.io, a programming playground powered by e8vm', 'https://shanhu.io', '1', '1', 'h8liu', '4/28/2016 18:05']\n",
      "\n",
      "\n",
      "['12178806', 'Show HN: Webscope  Easy way for web developers to communicate with Clients', 'http://webscopeapp.com', '3', '3', 'fastbrick', '7/28/2016 7:11']\n",
      "\n",
      "\n",
      "['10872799', 'Show HN: GeoScreenshot  Easily test Geo-IP based web pages', 'https://www.geoscreenshot.com/', '1', '9', 'kpsychwave', '1/9/2016 20:45']\n",
      "\n",
      "\n"
     ]
    }
   ],
   "source": [
    "for row in show_posts[:5]:\n",
    "    \n",
    "    print(row)\n",
    "    print('\\n')"
   ]
  },
  {
   "cell_type": "markdown",
   "metadata": {},
   "source": [
    "### <center>Show_HN vs. Ask_HN: Which gets the higher average number comments per post?<center>"
   ]
  },
  {
   "cell_type": "code",
   "execution_count": 19,
   "metadata": {},
   "outputs": [
    {
     "name": "stdout",
     "output_type": "stream",
     "text": [
      "Total ask_comments: 24483\n",
      "Average ask_comments: 14.038417431192661\n"
     ]
    }
   ],
   "source": [
    "total_ask_comments = 0 \n",
    "\n",
    "for row in ask_posts:\n",
    "    \n",
    "    ask_comment = int(row[4])\n",
    "    \n",
    "    total_ask_comments += ask_comment\n",
    "\n",
    "avg_ask_comments = total_ask_comments/len(ask_posts)\n",
    "\n",
    "print('Total ask_comments:',total_ask_comments)\n",
    "print('Average ask_comments:',avg_ask_comments)"
   ]
  },
  {
   "cell_type": "code",
   "execution_count": 20,
   "metadata": {},
   "outputs": [
    {
     "name": "stdout",
     "output_type": "stream",
     "text": [
      "Total show_comments: 11988\n",
      "Average show_comments: 10.31669535283993\n"
     ]
    }
   ],
   "source": [
    "total_show_comments = 0 \n",
    "\n",
    "for row in show_posts:\n",
    "    \n",
    "    show_comment = int(row[4])\n",
    "    \n",
    "    total_show_comments += show_comment\n",
    "\n",
    "avg_show_comments = total_show_comments/len(show_posts)\n",
    "\n",
    "print('Total show_comments:',total_show_comments)\n",
    "print('Average show_comments:',avg_show_comments)"
   ]
  },
  {
   "cell_type": "markdown",
   "metadata": {},
   "source": [
    "#### Ask hn posts receive many more comments in total and average, potentially due to the nature of many people from different, professional backgrounds wanting to add their perspectives to solving a specific problem or doubt.\n",
    "\n",
    "\n",
    "| Post type | Total number of comments | Average number of comments per post |\n",
    "|-----------|--------------------------|-------------------------------------|\n",
    "| Show_HN   | 11,988                   | 10.32                               |\n",
    "| Ask HN    | 24,483                   | 14.03                               |\n"
   ]
  },
  {
   "cell_type": "markdown",
   "metadata": {
    "collapsed": true
   },
   "source": [
    "### <center>Parsing the dates<center>"
   ]
  },
  {
   "cell_type": "code",
   "execution_count": 21,
   "metadata": {},
   "outputs": [],
   "source": [
    "import datetime as dt\n",
    "\n",
    "result_list = []\n",
    "\n",
    "for row in ask_posts: #Preparation for the parsing\n",
    "    \n",
    "    create_date = row[6]\n",
    "    \n",
    "    comment_num = int(row[4])\n",
    "    \n",
    "    result_list.append([create_date,comment_num]) \n",
    "\n",
    "counts_by_hour =  {} #Will house the total number of post by hour\n",
    "\n",
    "comments_by_hour = {} #While this one will have the total sum of comments per hour\n",
    "\n",
    "for row in result_list:\n",
    "    \n",
    "    create_date = row[0]\n",
    "    \n",
    "    parse_date = dt.datetime.strptime(create_date,'%m/%d/%Y %H:%M')\n",
    "    \n",
    "    hour = parse_date.strftime('%H')\n",
    "    \n",
    "    comment_num = int(row[1])\n",
    "    \n",
    "    if hour in counts_by_hour and comments_by_hour:\n",
    "        \n",
    "        counts_by_hour[hour] += 1\n",
    "        comments_by_hour[hour] += comment_num\n",
    "        \n",
    "    else:\n",
    "        counts_by_hour[hour] = 1\n",
    "        comments_by_hour[hour] = comment_num\n",
    "\n"
   ]
  },
  {
   "cell_type": "markdown",
   "metadata": {},
   "source": [
    "### <center>Finding the averages by hour<center>"
   ]
  },
  {
   "cell_type": "code",
   "execution_count": 22,
   "metadata": {},
   "outputs": [],
   "source": [
    "#For the average number of comments per ask hn by hour\n",
    "\n",
    "avg_by_hour = []\n",
    "\n",
    "for hour in comments_by_hour:\n",
    "    \n",
    "    comment_number = int(comments_by_hour[hour])\n",
    "    \n",
    "    posts = int(counts_by_hour[hour])\n",
    "    \n",
    "    avg_by_hour.append([hour, (comment_number/posts)])"
   ]
  },
  {
   "cell_type": "code",
   "execution_count": 23,
   "metadata": {},
   "outputs": [],
   "source": [
    "#For easier printing and sorting\n",
    "\n",
    "swap_avg_by_hour = []\n",
    "\n",
    "for hour, comments in avg_by_hour:\n",
    "    \n",
    "    swap_avg_by_hour.append([comments, hour])"
   ]
  },
  {
   "cell_type": "markdown",
   "metadata": {},
   "source": [
    "### <center>Which hour gets the most Ask HN comments?<center>"
   ]
  },
  {
   "cell_type": "code",
   "execution_count": 24,
   "metadata": {},
   "outputs": [
    {
     "name": "stdout",
     "output_type": "stream",
     "text": [
      "Top 5 Hours for Ask Posts Comments: \n",
      "\n",
      "15:00: 38.59 average comments per post.\n",
      "\n",
      "\n",
      "02:00: 23.81 average comments per post.\n",
      "\n",
      "\n",
      "20:00: 21.52 average comments per post.\n",
      "\n",
      "\n",
      "16:00: 16.80 average comments per post.\n",
      "\n",
      "\n",
      "21:00: 16.01 average comments per post.\n",
      "\n",
      "\n"
     ]
    }
   ],
   "source": [
    "sorted_swap = sorted(swap_avg_by_hour, reverse = True)\n",
    "\n",
    "print(\"Top 5 Hours for Ask Posts Comments:\", '\\n')\n",
    "\n",
    "for row in sorted_swap[:5]:\n",
    "    \n",
    "    hour = row[1]\n",
    "    \n",
    "    hour = dt.datetime.strptime(hour,'%H')\n",
    "    \n",
    "    hour = hour.strftime('%H:%M')\n",
    "    \n",
    "    comments = float(row[0])\n",
    "    \n",
    "    result_string = '{0}: {1:.2f} average comments per post.'\n",
    "    \n",
    "    format_string = result_string.format(hour, comments)\n",
    "    \n",
    "    print(format_string)\n",
    "    \n",
    "    print('\\n')"
   ]
  },
  {
   "cell_type": "markdown",
   "metadata": {},
   "source": [
    "### <center> Conclusion <center>"
   ]
  },
  {
   "cell_type": "markdown",
   "metadata": {},
   "source": [
    "  \n",
    "| Hour of day | Number of average comments per post |\n",
    "|-------------|-----------------------------|\n",
    "| 15:00 (03:00 p.m.)      | 38.59                       |\n",
    "| 02:00 (02:00 a.m.)      | 23.81                       |\n",
    "| 20:00 (08:00 p.m.)       | 21.52                       |\n",
    "| 16:00 (04:00 p.m.)       | 16.80                       |\n",
    "| 21:00 (09:00 p.m.)       | 16.01                       |\n",
    "\n",
    "#### The main times that receive the most comments for ask_posts are summarized in this table. It seems that 3:00 p.m. is the best time to get many responses to a question, as the gap between the comments for that time and the others is large enough. This concludes this short study. Thank you for reading.\n",
    "   \n"
   ]
  },
  {
   "cell_type": "code",
   "execution_count": null,
   "metadata": {
    "collapsed": true
   },
   "outputs": [],
   "source": []
  }
 ],
 "metadata": {
  "kernelspec": {
   "display_name": "Python 3",
   "language": "python",
   "name": "python3"
  },
  "language_info": {
   "codemirror_mode": {
    "name": "ipython",
    "version": 3
   },
   "file_extension": ".py",
   "mimetype": "text/x-python",
   "name": "python",
   "nbconvert_exporter": "python",
   "pygments_lexer": "ipython3",
   "version": "3.8.2"
  }
 },
 "nbformat": 4,
 "nbformat_minor": 2
}
